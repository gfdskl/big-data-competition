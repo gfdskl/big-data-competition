{
 "cells": [
  {
   "cell_type": "code",
   "execution_count": 27,
   "metadata": {},
   "outputs": [],
   "source": [
    "import os\n",
    "import pandas as pd\n",
    "import numpy as np\n",
    "from sklearn import svm"
   ]
  },
  {
   "cell_type": "code",
   "execution_count": 28,
   "metadata": {},
   "outputs": [
    {
     "name": "stdout",
     "output_type": "stream",
     "text": [
      "[WinError 2] 系统找不到指定的文件。: 'Desktop/'\n",
      "C:\\Users\\86137\\Desktop\n"
     ]
    }
   ],
   "source": [
    "cd Desktop/"
   ]
  },
  {
   "cell_type": "code",
   "execution_count": 4,
   "metadata": {},
   "outputs": [],
   "source": [
    "feature = pd.read_csv('feature.csv',header=-1)\n",
    "label = pd.read_csv('label.csv',header=-1)"
   ]
  },
  {
   "cell_type": "code",
   "execution_count": 5,
   "metadata": {
    "scrolled": true
   },
   "outputs": [
    {
     "data": {
      "text/html": [
       "<div>\n",
       "<style scoped>\n",
       "    .dataframe tbody tr th:only-of-type {\n",
       "        vertical-align: middle;\n",
       "    }\n",
       "\n",
       "    .dataframe tbody tr th {\n",
       "        vertical-align: top;\n",
       "    }\n",
       "\n",
       "    .dataframe thead th {\n",
       "        text-align: right;\n",
       "    }\n",
       "</style>\n",
       "<table border=\"1\" class=\"dataframe\">\n",
       "  <thead>\n",
       "    <tr style=\"text-align: right;\">\n",
       "      <th></th>\n",
       "      <th>0</th>\n",
       "      <th>1</th>\n",
       "      <th>2</th>\n",
       "      <th>3</th>\n",
       "      <th>4</th>\n",
       "      <th>5</th>\n",
       "      <th>6</th>\n",
       "      <th>7</th>\n",
       "      <th>8</th>\n",
       "      <th>9</th>\n",
       "      <th>...</th>\n",
       "      <th>30</th>\n",
       "      <th>31</th>\n",
       "      <th>32</th>\n",
       "      <th>33</th>\n",
       "      <th>34</th>\n",
       "      <th>35</th>\n",
       "      <th>36</th>\n",
       "      <th>37</th>\n",
       "      <th>38</th>\n",
       "      <th>39</th>\n",
       "    </tr>\n",
       "  </thead>\n",
       "  <tbody>\n",
       "    <tr>\n",
       "      <th>0</th>\n",
       "      <td>0.00</td>\n",
       "      <td>0.66</td>\n",
       "      <td>0.09</td>\n",
       "      <td>0.0</td>\n",
       "      <td>0.97</td>\n",
       "      <td>0.19</td>\n",
       "      <td>0.37</td>\n",
       "      <td>0.14</td>\n",
       "      <td>0.35</td>\n",
       "      <td>0.00</td>\n",
       "      <td>...</td>\n",
       "      <td>0.00</td>\n",
       "      <td>1.0</td>\n",
       "      <td>0.38</td>\n",
       "      <td>0.73</td>\n",
       "      <td>0.67</td>\n",
       "      <td>0.0</td>\n",
       "      <td>0.59</td>\n",
       "      <td>0.14</td>\n",
       "      <td>0.29</td>\n",
       "      <td>0.73</td>\n",
       "    </tr>\n",
       "    <tr>\n",
       "      <th>1</th>\n",
       "      <td>0.84</td>\n",
       "      <td>0.53</td>\n",
       "      <td>0.82</td>\n",
       "      <td>0.0</td>\n",
       "      <td>0.97</td>\n",
       "      <td>0.19</td>\n",
       "      <td>0.64</td>\n",
       "      <td>0.14</td>\n",
       "      <td>0.98</td>\n",
       "      <td>0.33</td>\n",
       "      <td>...</td>\n",
       "      <td>0.00</td>\n",
       "      <td>1.0</td>\n",
       "      <td>0.38</td>\n",
       "      <td>0.65</td>\n",
       "      <td>0.67</td>\n",
       "      <td>0.0</td>\n",
       "      <td>0.59</td>\n",
       "      <td>0.10</td>\n",
       "      <td>0.29</td>\n",
       "      <td>0.67</td>\n",
       "    </tr>\n",
       "    <tr>\n",
       "      <th>2</th>\n",
       "      <td>0.10</td>\n",
       "      <td>0.79</td>\n",
       "      <td>0.42</td>\n",
       "      <td>0.0</td>\n",
       "      <td>0.97</td>\n",
       "      <td>0.19</td>\n",
       "      <td>0.58</td>\n",
       "      <td>0.14</td>\n",
       "      <td>0.22</td>\n",
       "      <td>0.00</td>\n",
       "      <td>...</td>\n",
       "      <td>0.00</td>\n",
       "      <td>1.0</td>\n",
       "      <td>1.00</td>\n",
       "      <td>0.65</td>\n",
       "      <td>0.29</td>\n",
       "      <td>0.0</td>\n",
       "      <td>0.24</td>\n",
       "      <td>0.10</td>\n",
       "      <td>0.11</td>\n",
       "      <td>0.67</td>\n",
       "    </tr>\n",
       "    <tr>\n",
       "      <th>3</th>\n",
       "      <td>0.81</td>\n",
       "      <td>0.65</td>\n",
       "      <td>0.99</td>\n",
       "      <td>0.0</td>\n",
       "      <td>0.97</td>\n",
       "      <td>0.19</td>\n",
       "      <td>0.69</td>\n",
       "      <td>0.14</td>\n",
       "      <td>0.52</td>\n",
       "      <td>0.00</td>\n",
       "      <td>...</td>\n",
       "      <td>0.01</td>\n",
       "      <td>1.0</td>\n",
       "      <td>1.00</td>\n",
       "      <td>0.65</td>\n",
       "      <td>0.29</td>\n",
       "      <td>0.0</td>\n",
       "      <td>0.24</td>\n",
       "      <td>0.03</td>\n",
       "      <td>0.11</td>\n",
       "      <td>0.67</td>\n",
       "    </tr>\n",
       "    <tr>\n",
       "      <th>4</th>\n",
       "      <td>0.10</td>\n",
       "      <td>0.79</td>\n",
       "      <td>0.42</td>\n",
       "      <td>0.0</td>\n",
       "      <td>0.97</td>\n",
       "      <td>0.19</td>\n",
       "      <td>0.63</td>\n",
       "      <td>0.14</td>\n",
       "      <td>0.91</td>\n",
       "      <td>0.00</td>\n",
       "      <td>...</td>\n",
       "      <td>0.00</td>\n",
       "      <td>1.0</td>\n",
       "      <td>1.00</td>\n",
       "      <td>0.65</td>\n",
       "      <td>0.29</td>\n",
       "      <td>0.0</td>\n",
       "      <td>0.24</td>\n",
       "      <td>0.10</td>\n",
       "      <td>0.11</td>\n",
       "      <td>0.67</td>\n",
       "    </tr>\n",
       "  </tbody>\n",
       "</table>\n",
       "<p>5 rows × 40 columns</p>\n",
       "</div>"
      ],
      "text/plain": [
       "     0     1     2    3     4     5     6     7     8     9   ...    30   31  \\\n",
       "0  0.00  0.66  0.09  0.0  0.97  0.19  0.37  0.14  0.35  0.00  ...  0.00  1.0   \n",
       "1  0.84  0.53  0.82  0.0  0.97  0.19  0.64  0.14  0.98  0.33  ...  0.00  1.0   \n",
       "2  0.10  0.79  0.42  0.0  0.97  0.19  0.58  0.14  0.22  0.00  ...  0.00  1.0   \n",
       "3  0.81  0.65  0.99  0.0  0.97  0.19  0.69  0.14  0.52  0.00  ...  0.01  1.0   \n",
       "4  0.10  0.79  0.42  0.0  0.97  0.19  0.63  0.14  0.91  0.00  ...  0.00  1.0   \n",
       "\n",
       "     32    33    34   35    36    37    38    39  \n",
       "0  0.38  0.73  0.67  0.0  0.59  0.14  0.29  0.73  \n",
       "1  0.38  0.65  0.67  0.0  0.59  0.10  0.29  0.67  \n",
       "2  1.00  0.65  0.29  0.0  0.24  0.10  0.11  0.67  \n",
       "3  1.00  0.65  0.29  0.0  0.24  0.03  0.11  0.67  \n",
       "4  1.00  0.65  0.29  0.0  0.24  0.10  0.11  0.67  \n",
       "\n",
       "[5 rows x 40 columns]"
      ]
     },
     "execution_count": 5,
     "metadata": {},
     "output_type": "execute_result"
    }
   ],
   "source": [
    "feature.head()"
   ]
  },
  {
   "cell_type": "code",
   "execution_count": 6,
   "metadata": {},
   "outputs": [
    {
     "data": {
      "text/html": [
       "<div>\n",
       "<style scoped>\n",
       "    .dataframe tbody tr th:only-of-type {\n",
       "        vertical-align: middle;\n",
       "    }\n",
       "\n",
       "    .dataframe tbody tr th {\n",
       "        vertical-align: top;\n",
       "    }\n",
       "\n",
       "    .dataframe thead th {\n",
       "        text-align: right;\n",
       "    }\n",
       "</style>\n",
       "<table border=\"1\" class=\"dataframe\">\n",
       "  <thead>\n",
       "    <tr style=\"text-align: right;\">\n",
       "      <th></th>\n",
       "      <th>0</th>\n",
       "    </tr>\n",
       "  </thead>\n",
       "  <tbody>\n",
       "    <tr>\n",
       "      <th>0</th>\n",
       "      <td>1</td>\n",
       "    </tr>\n",
       "    <tr>\n",
       "      <th>1</th>\n",
       "      <td>0</td>\n",
       "    </tr>\n",
       "    <tr>\n",
       "      <th>2</th>\n",
       "      <td>0</td>\n",
       "    </tr>\n",
       "    <tr>\n",
       "      <th>3</th>\n",
       "      <td>0</td>\n",
       "    </tr>\n",
       "    <tr>\n",
       "      <th>4</th>\n",
       "      <td>0</td>\n",
       "    </tr>\n",
       "  </tbody>\n",
       "</table>\n",
       "</div>"
      ],
      "text/plain": [
       "   0\n",
       "0  1\n",
       "1  0\n",
       "2  0\n",
       "3  0\n",
       "4  0"
      ]
     },
     "execution_count": 6,
     "metadata": {},
     "output_type": "execute_result"
    }
   ],
   "source": [
    "label.head()"
   ]
  },
  {
   "cell_type": "code",
   "execution_count": 8,
   "metadata": {},
   "outputs": [],
   "source": [
    "x = feature.values\n",
    "y = label.values.reshape(-1,)"
   ]
  },
  {
   "cell_type": "code",
   "execution_count": 58,
   "metadata": {
    "scrolled": false
   },
   "outputs": [
    {
     "name": "stdout",
     "output_type": "stream",
     "text": [
      "[1 0 0 ... 0 1 1]\n"
     ]
    }
   ],
   "source": [
    "# svm\n",
    "clf = svm.SVC(gamma='scale',class_weight='balanced')\n",
    "clf.fit(x,y)\n",
    "predict_y = clf.predict(x)\n",
    "\n",
    "print (predict_y)"
   ]
  },
  {
   "cell_type": "code",
   "execution_count": 59,
   "metadata": {},
   "outputs": [
    {
     "name": "stdout",
     "output_type": "stream",
     "text": [
      "23253\n"
     ]
    }
   ],
   "source": [
    "print (len((np.argwhere(predict_y!=y))))"
   ]
  },
  {
   "cell_type": "code",
   "execution_count": 61,
   "metadata": {},
   "outputs": [
    {
     "name": "stdout",
     "output_type": "stream",
     "text": [
      "863\n"
     ]
    }
   ],
   "source": [
    "# decision tree\n",
    "from sklearn import tree\n",
    "clf = tree.DecisionTreeClassifier()\n",
    "clf.fit(x,y)\n",
    "predict_y = clf.predict(x)\n",
    "print (len((np.argwhere(predict_y!=y))))"
   ]
  },
  {
   "cell_type": "code",
   "execution_count": 62,
   "metadata": {},
   "outputs": [
    {
     "name": "stdout",
     "output_type": "stream",
     "text": [
      "[1 0 0 ... 0 0 0]\n"
     ]
    }
   ],
   "source": [
    "print (predict_y)"
   ]
  },
  {
   "cell_type": "code",
   "execution_count": 13,
   "metadata": {},
   "outputs": [],
   "source": [
    "# 保存模型\n",
    "import pickle\n",
    "with open('tree.pickle','wb') as fw:\n",
    "    pickle.dump(clf,fw)\n",
    "    \n",
    "# 加载模型\n",
    "# with open('tree.pickle','rb') as fr:\n",
    "#     clf = pickle.load(fr)"
   ]
  },
  {
   "cell_type": "code",
   "execution_count": 20,
   "metadata": {},
   "outputs": [
    {
     "data": {
      "text/html": [
       "<div>\n",
       "<style scoped>\n",
       "    .dataframe tbody tr th:only-of-type {\n",
       "        vertical-align: middle;\n",
       "    }\n",
       "\n",
       "    .dataframe tbody tr th {\n",
       "        vertical-align: top;\n",
       "    }\n",
       "\n",
       "    .dataframe thead th {\n",
       "        text-align: right;\n",
       "    }\n",
       "</style>\n",
       "<table border=\"1\" class=\"dataframe\">\n",
       "  <thead>\n",
       "    <tr style=\"text-align: right;\">\n",
       "      <th></th>\n",
       "      <th>ID</th>\n",
       "      <th>date</th>\n",
       "      <th>A1</th>\n",
       "      <th>A2</th>\n",
       "      <th>A3</th>\n",
       "      <th>B1</th>\n",
       "      <th>B2</th>\n",
       "      <th>B3</th>\n",
       "      <th>C1</th>\n",
       "      <th>C2</th>\n",
       "      <th>...</th>\n",
       "      <th>E20</th>\n",
       "      <th>E21</th>\n",
       "      <th>E22</th>\n",
       "      <th>E23</th>\n",
       "      <th>E24</th>\n",
       "      <th>E25</th>\n",
       "      <th>E26</th>\n",
       "      <th>E27</th>\n",
       "      <th>E28</th>\n",
       "      <th>E29</th>\n",
       "    </tr>\n",
       "  </thead>\n",
       "  <tbody>\n",
       "    <tr>\n",
       "      <th>0</th>\n",
       "      <td>1</td>\n",
       "      <td>1900-07-01 23:30:00</td>\n",
       "      <td>6639933182047261336</td>\n",
       "      <td>-266997934034473966</td>\n",
       "      <td>8246390433496480203</td>\n",
       "      <td>9054247727413374425</td>\n",
       "      <td>-7341558312017818025</td>\n",
       "      <td>-8283098956013433384</td>\n",
       "      <td>-7138755224678627378</td>\n",
       "      <td>-6705654019294684257</td>\n",
       "      <td>...</td>\n",
       "      <td>0</td>\n",
       "      <td>0.266158</td>\n",
       "      <td>0.619259</td>\n",
       "      <td>17</td>\n",
       "      <td>6</td>\n",
       "      <td>0</td>\n",
       "      <td>4</td>\n",
       "      <td>6</td>\n",
       "      <td>4</td>\n",
       "      <td>20</td>\n",
       "    </tr>\n",
       "    <tr>\n",
       "      <th>1</th>\n",
       "      <td>4</td>\n",
       "      <td>1900-07-01 23:30:00</td>\n",
       "      <td>-7834936860748470404</td>\n",
       "      <td>7969469182960222711</td>\n",
       "      <td>2581139938865571426</td>\n",
       "      <td>-8639208079192601888</td>\n",
       "      <td>8626319289109649330</td>\n",
       "      <td>-5533056078568352733</td>\n",
       "      <td>-1111151172125569605</td>\n",
       "      <td>-6705654019294684257</td>\n",
       "      <td>...</td>\n",
       "      <td>0</td>\n",
       "      <td>0.266158</td>\n",
       "      <td>-1.600320</td>\n",
       "      <td>17</td>\n",
       "      <td>14</td>\n",
       "      <td>0</td>\n",
       "      <td>10</td>\n",
       "      <td>2</td>\n",
       "      <td>10</td>\n",
       "      <td>20</td>\n",
       "    </tr>\n",
       "    <tr>\n",
       "      <th>2</th>\n",
       "      <td>6</td>\n",
       "      <td>1900-07-01 23:30:00</td>\n",
       "      <td>4650039790794677128</td>\n",
       "      <td>2774817855788439768</td>\n",
       "      <td>9040931202870639290</td>\n",
       "      <td>-8639208079192601888</td>\n",
       "      <td>8626319289109649330</td>\n",
       "      <td>-5533056078568352733</td>\n",
       "      <td>4001157654716108171</td>\n",
       "      <td>-6705654019294684257</td>\n",
       "      <td>...</td>\n",
       "      <td>0</td>\n",
       "      <td>0.266158</td>\n",
       "      <td>0.619259</td>\n",
       "      <td>17</td>\n",
       "      <td>6</td>\n",
       "      <td>0</td>\n",
       "      <td>4</td>\n",
       "      <td>2</td>\n",
       "      <td>4</td>\n",
       "      <td>20</td>\n",
       "    </tr>\n",
       "    <tr>\n",
       "      <th>3</th>\n",
       "      <td>8</td>\n",
       "      <td>1900-07-01 23:30:00</td>\n",
       "      <td>6639933182047261336</td>\n",
       "      <td>-266997934034473966</td>\n",
       "      <td>8246390433496480203</td>\n",
       "      <td>-2574610792515121895</td>\n",
       "      <td>-4277426050680369930</td>\n",
       "      <td>3840025076341162581</td>\n",
       "      <td>-1800439894211020962</td>\n",
       "      <td>-6705654019294684257</td>\n",
       "      <td>...</td>\n",
       "      <td>0</td>\n",
       "      <td>0.266158</td>\n",
       "      <td>0.619259</td>\n",
       "      <td>19</td>\n",
       "      <td>6</td>\n",
       "      <td>0</td>\n",
       "      <td>4</td>\n",
       "      <td>0</td>\n",
       "      <td>4</td>\n",
       "      <td>22</td>\n",
       "    </tr>\n",
       "    <tr>\n",
       "      <th>4</th>\n",
       "      <td>10</td>\n",
       "      <td>1900-07-01 23:30:00</td>\n",
       "      <td>4650039790794677128</td>\n",
       "      <td>2774817855788439768</td>\n",
       "      <td>9040931202870639290</td>\n",
       "      <td>-8639208079192601888</td>\n",
       "      <td>8626319289109649330</td>\n",
       "      <td>-5533056078568352733</td>\n",
       "      <td>-6903606117160868970</td>\n",
       "      <td>-6705654019294684257</td>\n",
       "      <td>...</td>\n",
       "      <td>0</td>\n",
       "      <td>0.266158</td>\n",
       "      <td>0.619259</td>\n",
       "      <td>17</td>\n",
       "      <td>6</td>\n",
       "      <td>0</td>\n",
       "      <td>4</td>\n",
       "      <td>2</td>\n",
       "      <td>4</td>\n",
       "      <td>20</td>\n",
       "    </tr>\n",
       "  </tbody>\n",
       "</table>\n",
       "<p>5 rows × 42 columns</p>\n",
       "</div>"
      ],
      "text/plain": [
       "   ID                 date                   A1                   A2  \\\n",
       "0   1  1900-07-01 23:30:00  6639933182047261336  -266997934034473966   \n",
       "1   4  1900-07-01 23:30:00 -7834936860748470404  7969469182960222711   \n",
       "2   6  1900-07-01 23:30:00  4650039790794677128  2774817855788439768   \n",
       "3   8  1900-07-01 23:30:00  6639933182047261336  -266997934034473966   \n",
       "4  10  1900-07-01 23:30:00  4650039790794677128  2774817855788439768   \n",
       "\n",
       "                    A3                   B1                   B2  \\\n",
       "0  8246390433496480203  9054247727413374425 -7341558312017818025   \n",
       "1  2581139938865571426 -8639208079192601888  8626319289109649330   \n",
       "2  9040931202870639290 -8639208079192601888  8626319289109649330   \n",
       "3  8246390433496480203 -2574610792515121895 -4277426050680369930   \n",
       "4  9040931202870639290 -8639208079192601888  8626319289109649330   \n",
       "\n",
       "                    B3                   C1                   C2  ...  E20  \\\n",
       "0 -8283098956013433384 -7138755224678627378 -6705654019294684257  ...    0   \n",
       "1 -5533056078568352733 -1111151172125569605 -6705654019294684257  ...    0   \n",
       "2 -5533056078568352733  4001157654716108171 -6705654019294684257  ...    0   \n",
       "3  3840025076341162581 -1800439894211020962 -6705654019294684257  ...    0   \n",
       "4 -5533056078568352733 -6903606117160868970 -6705654019294684257  ...    0   \n",
       "\n",
       "        E21       E22  E23  E24  E25  E26  E27  E28  E29  \n",
       "0  0.266158  0.619259   17    6    0    4    6    4   20  \n",
       "1  0.266158 -1.600320   17   14    0   10    2   10   20  \n",
       "2  0.266158  0.619259   17    6    0    4    2    4   20  \n",
       "3  0.266158  0.619259   19    6    0    4    0    4   22  \n",
       "4  0.266158  0.619259   17    6    0    4    2    4   20  \n",
       "\n",
       "[5 rows x 42 columns]"
      ]
     },
     "execution_count": 20,
     "metadata": {},
     "output_type": "execute_result"
    }
   ],
   "source": [
    "# 加载测试集\n",
    "test = pd.read_csv('test.csv')\n",
    "test.head()"
   ]
  },
  {
   "cell_type": "code",
   "execution_count": 21,
   "metadata": {},
   "outputs": [
    {
     "data": {
      "text/html": [
       "<div>\n",
       "<style scoped>\n",
       "    .dataframe tbody tr th:only-of-type {\n",
       "        vertical-align: middle;\n",
       "    }\n",
       "\n",
       "    .dataframe tbody tr th {\n",
       "        vertical-align: top;\n",
       "    }\n",
       "\n",
       "    .dataframe thead th {\n",
       "        text-align: right;\n",
       "    }\n",
       "</style>\n",
       "<table border=\"1\" class=\"dataframe\">\n",
       "  <thead>\n",
       "    <tr style=\"text-align: right;\">\n",
       "      <th></th>\n",
       "      <th>A1</th>\n",
       "      <th>A2</th>\n",
       "      <th>A3</th>\n",
       "      <th>B1</th>\n",
       "      <th>B2</th>\n",
       "      <th>B3</th>\n",
       "      <th>C1</th>\n",
       "      <th>C2</th>\n",
       "      <th>C3</th>\n",
       "      <th>D1</th>\n",
       "      <th>...</th>\n",
       "      <th>E20</th>\n",
       "      <th>E21</th>\n",
       "      <th>E22</th>\n",
       "      <th>E23</th>\n",
       "      <th>E24</th>\n",
       "      <th>E25</th>\n",
       "      <th>E26</th>\n",
       "      <th>E27</th>\n",
       "      <th>E28</th>\n",
       "      <th>E29</th>\n",
       "    </tr>\n",
       "  </thead>\n",
       "  <tbody>\n",
       "    <tr>\n",
       "      <th>0</th>\n",
       "      <td>6639933182047261336</td>\n",
       "      <td>-266997934034473966</td>\n",
       "      <td>8246390433496480203</td>\n",
       "      <td>9054247727413374425</td>\n",
       "      <td>-7341558312017818025</td>\n",
       "      <td>-8283098956013433384</td>\n",
       "      <td>-7138755224678627378</td>\n",
       "      <td>-6705654019294684257</td>\n",
       "      <td>-6915019868152657482</td>\n",
       "      <td>1</td>\n",
       "      <td>...</td>\n",
       "      <td>0</td>\n",
       "      <td>0.266158</td>\n",
       "      <td>0.619259</td>\n",
       "      <td>17</td>\n",
       "      <td>6</td>\n",
       "      <td>0</td>\n",
       "      <td>4</td>\n",
       "      <td>6</td>\n",
       "      <td>4</td>\n",
       "      <td>20</td>\n",
       "    </tr>\n",
       "    <tr>\n",
       "      <th>1</th>\n",
       "      <td>-7834936860748470404</td>\n",
       "      <td>7969469182960222711</td>\n",
       "      <td>2581139938865571426</td>\n",
       "      <td>-8639208079192601888</td>\n",
       "      <td>8626319289109649330</td>\n",
       "      <td>-5533056078568352733</td>\n",
       "      <td>-1111151172125569605</td>\n",
       "      <td>-6705654019294684257</td>\n",
       "      <td>-4108156365925589797</td>\n",
       "      <td>1</td>\n",
       "      <td>...</td>\n",
       "      <td>0</td>\n",
       "      <td>0.266158</td>\n",
       "      <td>-1.600320</td>\n",
       "      <td>17</td>\n",
       "      <td>14</td>\n",
       "      <td>0</td>\n",
       "      <td>10</td>\n",
       "      <td>2</td>\n",
       "      <td>10</td>\n",
       "      <td>20</td>\n",
       "    </tr>\n",
       "    <tr>\n",
       "      <th>2</th>\n",
       "      <td>4650039790794677128</td>\n",
       "      <td>2774817855788439768</td>\n",
       "      <td>9040931202870639290</td>\n",
       "      <td>-8639208079192601888</td>\n",
       "      <td>8626319289109649330</td>\n",
       "      <td>-5533056078568352733</td>\n",
       "      <td>4001157654716108171</td>\n",
       "      <td>-6705654019294684257</td>\n",
       "      <td>-4818755172019786308</td>\n",
       "      <td>0</td>\n",
       "      <td>...</td>\n",
       "      <td>0</td>\n",
       "      <td>0.266158</td>\n",
       "      <td>0.619259</td>\n",
       "      <td>17</td>\n",
       "      <td>6</td>\n",
       "      <td>0</td>\n",
       "      <td>4</td>\n",
       "      <td>2</td>\n",
       "      <td>4</td>\n",
       "      <td>20</td>\n",
       "    </tr>\n",
       "    <tr>\n",
       "      <th>3</th>\n",
       "      <td>6639933182047261336</td>\n",
       "      <td>-266997934034473966</td>\n",
       "      <td>8246390433496480203</td>\n",
       "      <td>-2574610792515121895</td>\n",
       "      <td>-4277426050680369930</td>\n",
       "      <td>3840025076341162581</td>\n",
       "      <td>-1800439894211020962</td>\n",
       "      <td>-6705654019294684257</td>\n",
       "      <td>-6369330351977459030</td>\n",
       "      <td>0</td>\n",
       "      <td>...</td>\n",
       "      <td>0</td>\n",
       "      <td>0.266158</td>\n",
       "      <td>0.619259</td>\n",
       "      <td>19</td>\n",
       "      <td>6</td>\n",
       "      <td>0</td>\n",
       "      <td>4</td>\n",
       "      <td>0</td>\n",
       "      <td>4</td>\n",
       "      <td>22</td>\n",
       "    </tr>\n",
       "    <tr>\n",
       "      <th>4</th>\n",
       "      <td>4650039790794677128</td>\n",
       "      <td>2774817855788439768</td>\n",
       "      <td>9040931202870639290</td>\n",
       "      <td>-8639208079192601888</td>\n",
       "      <td>8626319289109649330</td>\n",
       "      <td>-5533056078568352733</td>\n",
       "      <td>-6903606117160868970</td>\n",
       "      <td>-6705654019294684257</td>\n",
       "      <td>8690280099524284095</td>\n",
       "      <td>0</td>\n",
       "      <td>...</td>\n",
       "      <td>0</td>\n",
       "      <td>0.266158</td>\n",
       "      <td>0.619259</td>\n",
       "      <td>17</td>\n",
       "      <td>6</td>\n",
       "      <td>0</td>\n",
       "      <td>4</td>\n",
       "      <td>2</td>\n",
       "      <td>4</td>\n",
       "      <td>20</td>\n",
       "    </tr>\n",
       "  </tbody>\n",
       "</table>\n",
       "<p>5 rows × 40 columns</p>\n",
       "</div>"
      ],
      "text/plain": [
       "                    A1                   A2                   A3  \\\n",
       "0  6639933182047261336  -266997934034473966  8246390433496480203   \n",
       "1 -7834936860748470404  7969469182960222711  2581139938865571426   \n",
       "2  4650039790794677128  2774817855788439768  9040931202870639290   \n",
       "3  6639933182047261336  -266997934034473966  8246390433496480203   \n",
       "4  4650039790794677128  2774817855788439768  9040931202870639290   \n",
       "\n",
       "                    B1                   B2                   B3  \\\n",
       "0  9054247727413374425 -7341558312017818025 -8283098956013433384   \n",
       "1 -8639208079192601888  8626319289109649330 -5533056078568352733   \n",
       "2 -8639208079192601888  8626319289109649330 -5533056078568352733   \n",
       "3 -2574610792515121895 -4277426050680369930  3840025076341162581   \n",
       "4 -8639208079192601888  8626319289109649330 -5533056078568352733   \n",
       "\n",
       "                    C1                   C2                   C3  D1  ...  \\\n",
       "0 -7138755224678627378 -6705654019294684257 -6915019868152657482   1  ...   \n",
       "1 -1111151172125569605 -6705654019294684257 -4108156365925589797   1  ...   \n",
       "2  4001157654716108171 -6705654019294684257 -4818755172019786308   0  ...   \n",
       "3 -1800439894211020962 -6705654019294684257 -6369330351977459030   0  ...   \n",
       "4 -6903606117160868970 -6705654019294684257  8690280099524284095   0  ...   \n",
       "\n",
       "   E20       E21       E22  E23  E24  E25  E26  E27  E28  E29  \n",
       "0    0  0.266158  0.619259   17    6    0    4    6    4   20  \n",
       "1    0  0.266158 -1.600320   17   14    0   10    2   10   20  \n",
       "2    0  0.266158  0.619259   17    6    0    4    2    4   20  \n",
       "3    0  0.266158  0.619259   19    6    0    4    0    4   22  \n",
       "4    0  0.266158  0.619259   17    6    0    4    2    4   20  \n",
       "\n",
       "[5 rows x 40 columns]"
      ]
     },
     "execution_count": 21,
     "metadata": {},
     "output_type": "execute_result"
    }
   ],
   "source": [
    "# 去除前两列特征\n",
    "test.drop(columns=['ID','date'],inplace=True)\n",
    "test.head()"
   ]
  },
  {
   "cell_type": "code",
   "execution_count": 22,
   "metadata": {},
   "outputs": [
    {
     "ename": "AttributeError",
     "evalue": "'numpy.ndarray' object has no attribute 'head'",
     "output_type": "error",
     "traceback": [
      "\u001b[1;31m---------------------------------------------------------------------------\u001b[0m",
      "\u001b[1;31mAttributeError\u001b[0m                            Traceback (most recent call last)",
      "\u001b[1;32m<ipython-input-22-ea36a7bf8db8>\u001b[0m in \u001b[0;36m<module>\u001b[1;34m\u001b[0m\n\u001b[0;32m      2\u001b[0m \u001b[0mmin_max_scaler\u001b[0m \u001b[1;33m=\u001b[0m \u001b[0mpreprocessing\u001b[0m\u001b[1;33m.\u001b[0m\u001b[0mMinMaxScaler\u001b[0m\u001b[1;33m(\u001b[0m\u001b[1;33m)\u001b[0m\u001b[1;33m\u001b[0m\u001b[1;33m\u001b[0m\u001b[0m\n\u001b[0;32m      3\u001b[0m \u001b[0mtest\u001b[0m \u001b[1;33m=\u001b[0m \u001b[0mmin_max_scaler\u001b[0m\u001b[1;33m.\u001b[0m\u001b[0mfit_transform\u001b[0m\u001b[1;33m(\u001b[0m\u001b[0mtest\u001b[0m\u001b[1;33m)\u001b[0m\u001b[1;33m\u001b[0m\u001b[1;33m\u001b[0m\u001b[0m\n\u001b[1;32m----> 4\u001b[1;33m \u001b[0mtest\u001b[0m\u001b[1;33m.\u001b[0m\u001b[0mhead\u001b[0m\u001b[1;33m(\u001b[0m\u001b[1;33m)\u001b[0m\u001b[1;33m\u001b[0m\u001b[1;33m\u001b[0m\u001b[0m\n\u001b[0m",
      "\u001b[1;31mAttributeError\u001b[0m: 'numpy.ndarray' object has no attribute 'head'"
     ]
    }
   ],
   "source": [
    "# 数据归一化\n",
    "from sklearn import preprocessing\n",
    "min_max_scaler = preprocessing.MinMaxScaler()\n",
    "test = min_max_scaler.fit_transform(test)"
   ]
  },
  {
   "cell_type": "code",
   "execution_count": 23,
   "metadata": {},
   "outputs": [
    {
     "name": "stdout",
     "output_type": "stream",
     "text": [
      "[[0.93732508 0.48489712 0.94909568 ... 0.10169492 0.08823529 0.65517241]\n",
      " [0.         0.93206257 0.640688   ... 0.03389831 0.26470588 0.65517241]\n",
      " [0.80846887 0.65004012 0.99234928 ... 0.03389831 0.08823529 0.65517241]\n",
      " ...\n",
      " [0.80846887 0.65004012 0.99234928 ... 0.18644068 0.08823529 0.65517241]\n",
      " [0.93732508 0.48489712 0.94909568 ... 0.         0.08823529 0.75862069]\n",
      " [0.93732508 0.48489712 0.94909568 ... 0.         0.08823529 0.72413793]]\n"
     ]
    }
   ],
   "source": [
    "print (test)"
   ]
  },
  {
   "cell_type": "code",
   "execution_count": 39,
   "metadata": {},
   "outputs": [
    {
     "name": "stdout",
     "output_type": "stream",
     "text": [
      "[[1. 0.]\n",
      " [1. 0.]\n",
      " [1. 0.]\n",
      " ...\n",
      " [0. 1.]\n",
      " [1. 0.]\n",
      " [0. 1.]]\n"
     ]
    }
   ],
   "source": [
    "# 用模型进行预测\n",
    "test_label = clf.predict_proba(test)\n",
    "print (test_label)"
   ]
  },
  {
   "cell_type": "code",
   "execution_count": 52,
   "metadata": {},
   "outputs": [
    {
     "name": "stdout",
     "output_type": "stream",
     "text": [
      "[[0.   0.66 0.09 ... 0.14 0.29 0.73]\n",
      " [0.84 0.53 0.82 ... 0.1  0.29 0.67]\n",
      " [0.1  0.79 0.42 ... 0.1  0.11 0.67]\n",
      " ...\n",
      " [0.94 0.48 0.95 ... 0.02 0.11 0.67]\n",
      " [0.   0.63 0.87 ... 0.   0.29 0.77]\n",
      " [0.81 0.65 0.99 ... 0.02 0.11 0.67]]\n",
      "[1 0 0 ... 0 0 0]\n"
     ]
    }
   ],
   "source": [
    "print (x)\n",
    "print (y)"
   ]
  },
  {
   "cell_type": "code",
   "execution_count": 55,
   "metadata": {},
   "outputs": [
    {
     "name": "stdout",
     "output_type": "stream",
     "text": [
      "[0 0 0 ... 0 0 0]\n"
     ]
    }
   ],
   "source": [
    "# xboost\n",
    "\n",
    "from xgboost import XGBClassifier\n",
    "model = XGBClassifier()\n",
    "model.fit(x,y)\n",
    "predict_y = model.predict(x)\n",
    "print (predict_y)\n",
    "# print (len((np.argwhere(predict_y!=y))))"
   ]
  },
  {
   "cell_type": "code",
   "execution_count": 56,
   "metadata": {},
   "outputs": [
    {
     "name": "stdout",
     "output_type": "stream",
     "text": [
      "10075\n"
     ]
    }
   ],
   "source": [
    "print (len((np.argwhere(predict_y!=y))))"
   ]
  },
  {
   "cell_type": "code",
   "execution_count": 37,
   "metadata": {},
   "outputs": [
    {
     "name": "stdout",
     "output_type": "stream",
     "text": [
      "671\n",
      "10244\n"
     ]
    }
   ],
   "source": [
    "print (len((np.argwhere(predict_y==1))))\n",
    "print (len((np.argwhere(y==1))))"
   ]
  },
  {
   "cell_type": "code",
   "execution_count": 35,
   "metadata": {},
   "outputs": [
    {
     "name": "stdout",
     "output_type": "stream",
     "text": [
      "[[0.   0.66 0.09 ... 0.14 0.29 0.73]\n",
      " [0.84 0.53 0.82 ... 0.1  0.29 0.67]\n",
      " [0.1  0.79 0.42 ... 0.1  0.11 0.67]\n",
      " ...\n",
      " [0.94 0.48 0.95 ... 0.02 0.11 0.67]\n",
      " [0.   0.63 0.87 ... 0.   0.29 0.77]\n",
      " [0.81 0.65 0.99 ... 0.02 0.11 0.67]]\n",
      "[1 0 0 ... 0 0 0]\n"
     ]
    }
   ],
   "source": [
    "print (x)\n",
    "print (y)"
   ]
  },
  {
   "cell_type": "code",
   "execution_count": 54,
   "metadata": {},
   "outputs": [
    {
     "name": "stderr",
     "output_type": "stream",
     "text": [
      "D:\\anaconda\\lib\\site-packages\\sklearn\\neural_network\\multilayer_perceptron.py:566: ConvergenceWarning: Stochastic Optimizer: Maximum iterations (200) reached and the optimization hasn't converged yet.\n",
      "  % self.max_iter, ConvergenceWarning)\n"
     ]
    },
    {
     "name": "stdout",
     "output_type": "stream",
     "text": [
      "[0 0 0 ... 0 0 0]\n"
     ]
    }
   ],
   "source": [
    "# MLP\n",
    "from sklearn.neural_network import MLPClassifier\n",
    "clf = MLPClassifier()\n",
    "clf.fit(x,y)\n",
    "predict_y = clf.predict(x)\n",
    "print (predict_y)"
   ]
  },
  {
   "cell_type": "code",
   "execution_count": 42,
   "metadata": {},
   "outputs": [
    {
     "name": "stdout",
     "output_type": "stream",
     "text": [
      "10011\n"
     ]
    }
   ],
   "source": [
    "print (len((np.argwhere(predict_y!=y))))"
   ]
  },
  {
   "cell_type": "code",
   "execution_count": 57,
   "metadata": {},
   "outputs": [
    {
     "name": "stdout",
     "output_type": "stream",
     "text": [
      "[[0.74759028 0.25240972]\n",
      " [0.93830923 0.06169077]\n",
      " [0.78222275 0.21777725]\n",
      " ...\n",
      " [0.75012089 0.24987911]\n",
      " [0.81476157 0.18523843]\n",
      " [0.67855798 0.32144202]]\n"
     ]
    }
   ],
   "source": [
    "test_label = clf.predict_proba(test)\n",
    "print (test_label)"
   ]
  },
  {
   "cell_type": "code",
   "execution_count": null,
   "metadata": {},
   "outputs": [],
   "source": []
  }
 ],
 "metadata": {
  "kernelspec": {
   "display_name": "Python 3",
   "language": "python",
   "name": "python3"
  },
  "language_info": {
   "codemirror_mode": {
    "name": "ipython",
    "version": 3
   },
   "file_extension": ".py",
   "mimetype": "text/x-python",
   "name": "python",
   "nbconvert_exporter": "python",
   "pygments_lexer": "ipython3",
   "version": "3.6.8"
  },
  "toc": {
   "base_numbering": 1,
   "nav_menu": {},
   "number_sections": true,
   "sideBar": true,
   "skip_h1_title": false,
   "title_cell": "Table of Contents",
   "title_sidebar": "Contents",
   "toc_cell": false,
   "toc_position": {},
   "toc_section_display": true,
   "toc_window_display": false
  }
 },
 "nbformat": 4,
 "nbformat_minor": 2
}
